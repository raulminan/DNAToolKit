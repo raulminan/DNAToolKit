{
 "cells": [
  {
   "cell_type": "code",
   "execution_count": 9,
   "metadata": {},
   "outputs": [],
   "source": [
    "from dataclasses import dataclass\n",
    "\n",
    "@dataclass\n",
    "class NaiveMatch():\n",
    "    occurences: list[int]\n",
    "    alignments: int\n",
    "    char_comparisons: int\n",
    "\n",
    "def naive_matching(pattern, text, max_mismatches=0, counts=True):\n",
    "    occurrences = []\n",
    "    num_alignments = 0\n",
    "    num_character_comparisons = 0\n",
    "    for i in range(len(text) - len(pattern) + 1):  \n",
    "        mismatches = 0\n",
    "        num_alignments += 1\n",
    "        for j in range(len(pattern)):  \n",
    "            num_character_comparisons += 1\n",
    "            if text[i+j] != pattern[j]:  \n",
    "                mismatches += 1\n",
    "                if mismatches > max_mismatches:\n",
    "                    break\n",
    "        if mismatches <= max_mismatches:\n",
    "            occurrences.append(i)  \n",
    "            \n",
    "    data = occurrences, num_alignments, num_character_comparisons\n",
    "    return NaiveMatch(*data)"
   ]
  },
  {
   "cell_type": "code",
   "execution_count": 16,
   "metadata": {},
   "outputs": [],
   "source": [
    "pattern = \"ACGTG\"\n",
    "text = \"ATGCTAGCGACTGATACGAGCTAGTCGATCGTAGCTAGACGAGTGCGATCACG\"\n",
    "\n",
    "data = naive_matching(pattern, text, max_mismatches=2)"
   ]
  },
  {
   "cell_type": "code",
   "execution_count": 18,
   "metadata": {},
   "outputs": [
    {
     "data": {
      "text/plain": [
       "49"
      ]
     },
     "execution_count": 18,
     "metadata": {},
     "output_type": "execute_result"
    }
   ],
   "source": [
    "data.alignments"
   ]
  }
 ],
 "metadata": {
  "kernelspec": {
   "display_name": "Python 3.9.12 ('base')",
   "language": "python",
   "name": "python3"
  },
  "language_info": {
   "codemirror_mode": {
    "name": "ipython",
    "version": 3
   },
   "file_extension": ".py",
   "mimetype": "text/x-python",
   "name": "python",
   "nbconvert_exporter": "python",
   "pygments_lexer": "ipython3",
   "version": "3.9.12"
  },
  "orig_nbformat": 4,
  "vscode": {
   "interpreter": {
    "hash": "ce967b4bae08aed7d67dbd1c9bd3b83190cdbdaf25ab9645755808a5176542ec"
   }
  }
 },
 "nbformat": 4,
 "nbformat_minor": 2
}
